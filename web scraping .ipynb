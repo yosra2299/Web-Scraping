{
 "cells": [
  {
   "cell_type": "markdown",
   "id": "5013886c",
   "metadata": {},
   "source": [
    "# Chouchane Yosra"
   ]
  },
  {
   "cell_type": "markdown",
   "id": "b748cb08",
   "metadata": {},
   "source": [
    "# WEB SCRAPPING "
   ]
  },
  {
   "cell_type": "code",
   "execution_count": 111,
   "id": "2bc558cd",
   "metadata": {},
   "outputs": [],
   "source": [
    "import requests\n",
    "from bs4 import BeautifulSoup\n",
    "import csv\n",
    "from itertools import zip_longest\n",
    "import pandas as pd"
   ]
  },
  {
   "cell_type": "code",
   "execution_count": 112,
   "id": "a463257e",
   "metadata": {},
   "outputs": [],
   "source": [
    "result = requests.get(f'https://www.flipkart.com/laptops/~buyback-guarantee-on-laptops-/pr?sid=6bo%2Cb5g&amp;amp;amp;amp;amp;amp;amp;amp;amp;amp;uniq')"
   ]
  },
  {
   "cell_type": "code",
   "execution_count": 113,
   "id": "155f1357",
   "metadata": {},
   "outputs": [],
   "source": [
    "brand=[]\n",
    "price=[]\n",
    "rate=[]\n",
    "feature = []\n",
    "src = result.content "
   ]
  },
  {
   "cell_type": "code",
   "execution_count": 114,
   "id": "8c0806b3",
   "metadata": {},
   "outputs": [],
   "source": [
    "soup = BeautifulSoup(src,'lxml')"
   ]
  },
  {
   "cell_type": "code",
   "execution_count": 115,
   "id": "12f31c1b",
   "metadata": {},
   "outputs": [],
   "source": [
    "brand=soup.find_all(\"div\", {'class': \"_4rR01T\"})\n"
   ]
  },
  {
   "cell_type": "code",
   "execution_count": 116,
   "id": "95c73fd1",
   "metadata": {},
   "outputs": [],
   "source": [
    "price= soup.find_all(\"div\",{'class':\"_30jeq3 _1_WHN1\"})\n"
   ]
  },
  {
   "cell_type": "code",
   "execution_count": 117,
   "id": "b8730ca3",
   "metadata": {},
   "outputs": [],
   "source": [
    "rate= soup.find_all(\"div\", {\"class\":\"_3LWZlK\"})\n"
   ]
  },
  {
   "cell_type": "code",
   "execution_count": 118,
   "id": "0ba911e3",
   "metadata": {},
   "outputs": [],
   "source": [
    "feature = soup.find_all(\"ul\", {\"class\":\"_1xgFaf\"})\n"
   ]
  },
  {
   "cell_type": "code",
   "execution_count": 119,
   "id": "19c44d23",
   "metadata": {},
   "outputs": [
    {
     "name": "stdout",
     "output_type": "stream",
     "text": [
      "APPLE MacBook Air Core i5 5th Gen - (8 GB/128 GB SSD/Mac OS Sierra) MQD32HN/A\n",
      "₹73,490\n",
      "4.7\n",
      "Intel Core i5 Processor (5th Gen)8 GB DDR3 RAM64 bit Mac OS Operating System128 GB SSD33.78 cm (13.3 inch) DisplayBuilt-in Apps: Siri, Safari, App Store, iMovie, GarageBand, Keynote, FaceTime, iBooks, iTunes1 Year Carry In Warranty\n",
      "DELL Insprion Core i7 7th Gen - (8 GB/1 TB HDD/Windows 10/2 GB Graphics) 3567 Laptop\n",
      "₹61,658\n",
      "4\n",
      "Microsoft Office Home & Student 2016Intel Core i7 Processor (7th Gen)8 GB DDR4 RAM64 bit Windows 10 Operating System1 TB HDD39.62 cm (15.6 inch) DisplayMicrosoft Office Home and Student 20161 Year Onsite Warranty By Dell\n",
      "HP 15 Core i3 6th Gen - (8 GB/1 TB HDD/DOS) 15Q-BU006TU Laptop\n",
      "₹33,996\n",
      "4.2\n",
      "Intel Core i3 Processor (6th Gen)8 GB DDR4 RAMDOS Operating System1 TB HDD39.62 cm (15.6 inch) Display1 Year Onsite Warranty\n",
      "DELL Vostro 3000 Core i5 7th Gen - (8 GB/1 TB HDD/Ubuntu/2 GB Graphics) 3568 Laptop\n",
      "₹42,999\n",
      "4.3\n",
      "Intel Core i5 Processor (7th Gen)8 GB DDR4 RAMLinux/Ubuntu Operating System1 TB HDD39.62 cm (15.6 inch) Display1 Year Onsite Warranty\n",
      "Lenovo Ideapad Core i3 6th Gen - (4 GB/1 TB HDD/DOS) IP 320E Laptop\n",
      "₹26,990\n",
      "4.1\n",
      "Intel Core i3 Processor (6th Gen)4 GB DDR4 RAMDOS Operating System1 TB HDD39.62 cm (15.6 inch) Display1 Year Onsite Warranty\n",
      "HP 15 Core i3 6th Gen - (4 GB/1 TB HDD/DOS) 15Q-BU007TU Laptop\n",
      "₹30,000\n",
      "4.2\n",
      "Intel Core i3 Processor (6th Gen)4 GB DDR4 RAMDOS Operating System1 TB HDD39.62 cm (15.6 inch) Display1 Year Onsite Warranty\n",
      "HP 15 Core i3 6th Gen - (4 GB/1 TB HDD/Windows 10 Home) 15-be014TU Laptop\n",
      "₹36,163\n",
      "4.1\n",
      "Pre-installed Genuine Windows 10 Operating System (Includes Built-in Security, Free Automated Updates, Latest Features)Intel Core i3 Processor (6th Gen)4 GB DDR4 RAM64 bit Windows 10 Operating System1 TB HDD39.62 cm (15.6 inch) Display1 Year Onsite Warranty\n",
      "Lenovo Yoga 510 Core i3 6th Gen - (4 GB/1 TB HDD/Windows 10 Home) Yoga 510 2 in 1 Laptop\n",
      "₹44,500\n",
      "4.1\n",
      "Pre-installed Genuine Windows 10 Operating System (Includes Built-in Security, Free Automated Updates, Latest Features)Intel Core i3 Processor (6th Gen)4 GB DDR4 RAM64 bit Windows 10 Operating System1 TB HDD35.56 cm (14 inch) Touchscreen Display1 Year Onsite Warranty\n",
      "HP APU Quad Core A8 A8-7410 - (4 GB/1 TB HDD/Windows 10 Home) 15-BG004AU Laptop\n",
      "₹27,825\n",
      "4\n",
      "Pre-installed Genuine Windows 10 Operating System (Includes Built-in Security, Free Automated Updates, Latest Features)AMD APU Quad Core A8 Processor4 GB DDR3 RAM64 bit Windows 10 Operating System1 TB HDD39.62 cm (15.6 inch) Display1 Year Onsite Warranty\n",
      "Lenovo Core i5 7th Gen - (8 GB/1 TB HDD/DOS/2 GB Graphics) IP 320-15IKB Laptop\n",
      "₹40,990\n",
      "4.2\n",
      "NVIDIA GeForce 940MX for High Graphics PerformanceIntel Core i5 Processor (7th Gen)8 GB DDR4 RAMDOS Operating System1 TB HDD39.62 cm (15.6 inch) Display1 Year Onsite Warranty\n"
     ]
    }
   ],
   "source": [
    "for i in range (len(brand)):\n",
    "    brand.append(brand[i].text)\n",
    "    price.append(price[i].text)\n",
    "    rate.append(rate[i].text)\n",
    "    feature.append(feature[i].text)\n",
    "    print(brand[i].text)\n",
    "    print(price[i].text)\n",
    "    print(rate[i].text)\n",
    "    print(feature[i].text)\n"
   ]
  },
  {
   "cell_type": "code",
   "execution_count": 122,
   "id": "9bf67079",
   "metadata": {
    "scrolled": true
   },
   "outputs": [],
   "source": [
    "data = dict({'Product Name': brand,'Price': price,'Rating':rate,'Feature': feature })"
   ]
  },
  {
   "cell_type": "code",
   "execution_count": 124,
   "id": "74501063",
   "metadata": {},
   "outputs": [
    {
     "data": {
      "text/html": [
       "<div>\n",
       "<style scoped>\n",
       "    .dataframe tbody tr th:only-of-type {\n",
       "        vertical-align: middle;\n",
       "    }\n",
       "\n",
       "    .dataframe tbody tr th {\n",
       "        vertical-align: top;\n",
       "    }\n",
       "\n",
       "    .dataframe thead th {\n",
       "        text-align: right;\n",
       "    }\n",
       "</style>\n",
       "<table border=\"1\" class=\"dataframe\">\n",
       "  <thead>\n",
       "    <tr style=\"text-align: right;\">\n",
       "      <th></th>\n",
       "      <th>Product Name</th>\n",
       "      <th>Price</th>\n",
       "      <th>Rating</th>\n",
       "      <th>Feature</th>\n",
       "    </tr>\n",
       "  </thead>\n",
       "  <tbody>\n",
       "    <tr>\n",
       "      <th>0</th>\n",
       "      <td>[APPLE MacBook Air Core i5 5th Gen - (8 GB/128...</td>\n",
       "      <td>[₹73,490]</td>\n",
       "      <td>[4.7, []]</td>\n",
       "      <td>[[Intel Core i5 Processor (5th Gen)], [8 GB DD...</td>\n",
       "    </tr>\n",
       "    <tr>\n",
       "      <th>1</th>\n",
       "      <td>[DELL Insprion Core i7 7th Gen - (8 GB/1 TB HD...</td>\n",
       "      <td>[₹61,658]</td>\n",
       "      <td>[4, []]</td>\n",
       "      <td>[[Microsoft Office Home &amp; Student 2016], [Inte...</td>\n",
       "    </tr>\n",
       "    <tr>\n",
       "      <th>2</th>\n",
       "      <td>[HP 15 Core i3 6th Gen - (8 GB/1 TB HDD/DOS) 1...</td>\n",
       "      <td>[₹33,996]</td>\n",
       "      <td>[4.2, []]</td>\n",
       "      <td>[[Intel Core i3 Processor (6th Gen)], [8 GB DD...</td>\n",
       "    </tr>\n",
       "    <tr>\n",
       "      <th>3</th>\n",
       "      <td>[DELL Vostro 3000 Core i5 7th Gen - (8 GB/1 TB...</td>\n",
       "      <td>[₹42,999]</td>\n",
       "      <td>[4.3, []]</td>\n",
       "      <td>[[Intel Core i5 Processor (7th Gen)], [8 GB DD...</td>\n",
       "    </tr>\n",
       "    <tr>\n",
       "      <th>4</th>\n",
       "      <td>[Lenovo Ideapad Core i3 6th Gen - (4 GB/1 TB H...</td>\n",
       "      <td>[₹26,990]</td>\n",
       "      <td>[4.1, []]</td>\n",
       "      <td>[[Intel Core i3 Processor (6th Gen)], [4 GB DD...</td>\n",
       "    </tr>\n",
       "  </tbody>\n",
       "</table>\n",
       "</div>"
      ],
      "text/plain": [
       "                                        Product Name      Price     Rating  \\\n",
       "0  [APPLE MacBook Air Core i5 5th Gen - (8 GB/128...  [₹73,490]  [4.7, []]   \n",
       "1  [DELL Insprion Core i7 7th Gen - (8 GB/1 TB HD...  [₹61,658]    [4, []]   \n",
       "2  [HP 15 Core i3 6th Gen - (8 GB/1 TB HDD/DOS) 1...  [₹33,996]  [4.2, []]   \n",
       "3  [DELL Vostro 3000 Core i5 7th Gen - (8 GB/1 TB...  [₹42,999]  [4.3, []]   \n",
       "4  [Lenovo Ideapad Core i3 6th Gen - (4 GB/1 TB H...  [₹26,990]  [4.1, []]   \n",
       "\n",
       "                                             Feature  \n",
       "0  [[Intel Core i5 Processor (5th Gen)], [8 GB DD...  \n",
       "1  [[Microsoft Office Home & Student 2016], [Inte...  \n",
       "2  [[Intel Core i3 Processor (6th Gen)], [8 GB DD...  \n",
       "3  [[Intel Core i5 Processor (7th Gen)], [8 GB DD...  \n",
       "4  [[Intel Core i3 Processor (6th Gen)], [4 GB DD...  "
      ]
     },
     "execution_count": 124,
     "metadata": {},
     "output_type": "execute_result"
    }
   ],
   "source": [
    "df = pd.DataFrame( dict([(k, pd.Series(v)) for k, v in data.items()]))\n",
    "df.to_csv('products.csv', sep=\",\")\n",
    "df.head()"
   ]
  },
  {
   "cell_type": "code",
   "execution_count": null,
   "id": "94b8b9f8",
   "metadata": {},
   "outputs": [],
   "source": [
    "\n"
   ]
  },
  {
   "cell_type": "code",
   "execution_count": null,
   "id": "24ffaa69",
   "metadata": {},
   "outputs": [],
   "source": []
  }
 ],
 "metadata": {
  "kernelspec": {
   "display_name": "Python 3 (ipykernel)",
   "language": "python",
   "name": "python3"
  },
  "language_info": {
   "codemirror_mode": {
    "name": "ipython",
    "version": 3
   },
   "file_extension": ".py",
   "mimetype": "text/x-python",
   "name": "python",
   "nbconvert_exporter": "python",
   "pygments_lexer": "ipython3",
   "version": "3.9.12"
  }
 },
 "nbformat": 4,
 "nbformat_minor": 5
}
